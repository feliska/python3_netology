{
 "cells": [
  {
   "cell_type": "code",
   "execution_count": null,
   "metadata": {
    "collapsed": true
   },
   "outputs": [],
   "source": [
    "import requests\n",
    "import json\n",
    "import time\n",
    "\n",
    "import pandas as pd\n",
    "import numpy as np\n",
    "import matplotlib.pyplot as plt\n",
    "%matplotlib inline"
   ]
  },
  {
   "cell_type": "code",
   "execution_count": null,
   "metadata": {
    "collapsed": false
   },
   "outputs": [],
   "source": [
    "VERSION = '5.63'\n",
    "API_ADDRESS = 'https://api.vk.com/method/'\n",
    "ACCESS_TOKEN = '76e01e83604e3f9e6527ab13fb0320d4cefd4fa8424a93c3f6032c1f94096f9d09b7fd1bcd0954a9b54db'\n",
    "METHOD = 'groups.getMembers'\n",
    "METHOD_EX = 'execute?access_token=' + ACCESS_TOKEN + '&code='"
   ]
  },
  {
   "cell_type": "code",
   "execution_count": null,
   "metadata": {
    "collapsed": false
   },
   "outputs": [],
   "source": [
    "g_lst = pd.read_json('top100.json')\n",
    "group_list = g_lst['id'].head(5).tolist()"
   ]
  },
  {
   "cell_type": "code",
   "execution_count": null,
   "metadata": {
    "collapsed": true
   },
   "outputs": [],
   "source": [
    "def get_members_count(id_of_group):\n",
    "    params = {'group_id': id_of_group, 'access_token': ACCESS_TOKEN, 'v': VERSION, 'fields':'sex, bdate'}\n",
    "    response = requests.get(API_ADDRESS + METHOD, params)\n",
    "    r = response.json()['response']['count']\n",
    "    return r"
   ]
  },
  {
   "cell_type": "code",
   "execution_count": null,
   "metadata": {
    "collapsed": false
   },
   "outputs": [],
   "source": [
    "print(\"Количество подписчиков в первых 5-ти группах:\")\n",
    "for i in group_list:\n",
    "    print(get_members_count(i))"
   ]
  },
  {
   "cell_type": "code",
   "execution_count": null,
   "metadata": {
    "collapsed": false
   },
   "outputs": [],
   "source": [
    "def get_group_members(id_of_group, n=25000):\n",
    "    offset_parm = 0\n",
    "    for i in range(get_members_count(id_of_group) // n + 1):\n",
    "        code = 'return ['\n",
    "        for i in range(25):\n",
    "            code = '%s%s' % (code, 'API.groups.getMembers({\"group_id\":%s, \"fields\":\"sex, bdate\", \"offset\":%s}),' % (id_of_group, offset_parm)) \n",
    "            offset_parm += 1000\n",
    "        code = '%s%s' % (code, '];')\n",
    "        response1 = requests.get(API_ADDRESS + METHOD_EX + code).json()['response']\n",
    "        for i in response1:\n",
    "            cleaned_members.extend(i['users'])\n",
    "        print(offset_parm)\n",
    "        print(\"Количество человек, выбранных для анализа:\", len(cleaned_members))"
   ]
  },
  {
   "cell_type": "code",
   "execution_count": null,
   "metadata": {
    "collapsed": true
   },
   "outputs": [],
   "source": [
    "cleaned_members = []"
   ]
  },
  {
   "cell_type": "markdown",
   "metadata": {},
   "source": [
    "При необходимости выбрать ВСЕХ подписчиков личности параметр **n** в функции **get_group_members** должен быть равен **25000**. Так как за один запрос выбирается 25000 пользователей."
   ]
  },
  {
   "cell_type": "code",
   "execution_count": null,
   "metadata": {
    "collapsed": false
   },
   "outputs": [],
   "source": [
    "for i in group_list:\n",
    "    get_group_members(i, n=2500000)\n",
    "    offset_parm = 0"
   ]
  },
  {
   "cell_type": "code",
   "execution_count": null,
   "metadata": {
    "collapsed": false
   },
   "outputs": [],
   "source": [
    "members = pd.DataFrame(cleaned_members)"
   ]
  },
  {
   "cell_type": "code",
   "execution_count": null,
   "metadata": {
    "collapsed": false
   },
   "outputs": [],
   "source": [
    "del members['uid']\n",
    "del members['first_name']\n",
    "del members['last_name']\n",
    "del members['deactivated']\n",
    "members = members.replace(to_replace=[1, 2], value=['F', 'M'])\n",
    "members['count'] = 1\n",
    "members_gender = members[members.sex != 0]"
   ]
  },
  {
   "cell_type": "code",
   "execution_count": null,
   "metadata": {
    "collapsed": false
   },
   "outputs": [],
   "source": [
    "members_gender.groupby('sex').sum().plot.bar()"
   ]
  },
  {
   "cell_type": "code",
   "execution_count": null,
   "metadata": {
    "collapsed": false
   },
   "outputs": [],
   "source": [
    "members_age = members['bdate'].str[:].str.split('.', expand=True)"
   ]
  },
  {
   "cell_type": "code",
   "execution_count": null,
   "metadata": {
    "collapsed": false
   },
   "outputs": [],
   "source": [
    "members_age = members_age.rename(columns={0:'day', 1:'m', 2: 'year'})\n",
    "members_age['age'] = 0\n",
    "members_age = members_age[pd.notnull(members_age['year'])]"
   ]
  },
  {
   "cell_type": "code",
   "execution_count": null,
   "metadata": {
    "collapsed": false
   },
   "outputs": [],
   "source": [
    "members_age['age'] = 2017 - members_age['year'].astype('int')"
   ]
  },
  {
   "cell_type": "code",
   "execution_count": null,
   "metadata": {
    "collapsed": false
   },
   "outputs": [],
   "source": [
    "bins = [10, 15, 20, 29, 39, 79, 200]"
   ]
  },
  {
   "cell_type": "code",
   "execution_count": null,
   "metadata": {
    "collapsed": false
   },
   "outputs": [],
   "source": [
    "age_names = ['10-15', '16-20', '21-30', '30-40', '40-80', '80 to eternity']"
   ]
  },
  {
   "cell_type": "code",
   "execution_count": null,
   "metadata": {
    "collapsed": false
   },
   "outputs": [],
   "source": [
    "categories = pd.cut(members_age['age'], bins, labels=age_names)\n",
    "members_age['categories'] = pd.cut(members_age['age'], bins, labels=age_names)"
   ]
  },
  {
   "cell_type": "code",
   "execution_count": null,
   "metadata": {
    "collapsed": false
   },
   "outputs": [],
   "source": [
    "pd.value_counts(members_age['categories']).sort_index().plot.bar()"
   ]
  },
  {
   "cell_type": "code",
   "execution_count": null,
   "metadata": {
    "collapsed": true
   },
   "outputs": [],
   "source": []
  }
 ],
 "metadata": {
  "kernelspec": {
   "display_name": "Python 3",
   "language": "python",
   "name": "python3"
  },
  "language_info": {
   "codemirror_mode": {
    "name": "ipython",
    "version": 3
   },
   "file_extension": ".py",
   "mimetype": "text/x-python",
   "name": "python",
   "nbconvert_exporter": "python",
   "pygments_lexer": "ipython3",
   "version": "3.6.0"
  }
 },
 "nbformat": 4,
 "nbformat_minor": 2
}
