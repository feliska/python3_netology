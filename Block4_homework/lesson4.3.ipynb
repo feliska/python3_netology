{
 "cells": [
  {
   "cell_type": "code",
   "execution_count": 1,
   "metadata": {
    "collapsed": true
   },
   "outputs": [],
   "source": [
    "import requests\n",
    "import re\n",
    "\n",
    "import pandas as pd\n",
    "import numpy as np\n",
    "import matplotlib.pyplot as plt\n",
    "\n",
    "%matplotlib inline"
   ]
  },
  {
   "cell_type": "code",
   "execution_count": 2,
   "metadata": {
    "collapsed": true
   },
   "outputs": [],
   "source": [
    "from scipy.cluster.vq import whiten, kmeans2"
   ]
  },
  {
   "cell_type": "code",
   "execution_count": 3,
   "metadata": {
    "collapsed": true
   },
   "outputs": [],
   "source": [
    "exp = re.compile('\\D')"
   ]
  },
  {
   "cell_type": "code",
   "execution_count": 4,
   "metadata": {
    "collapsed": true
   },
   "outputs": [],
   "source": [
    "def call_api(uri, result_key):\n",
    "    json = {}\n",
    "    try:\n",
    "        json = requests.get(uri, headers = { 'X-Auth-Token': '861a0bb1df4940b7b945a7d7eb3fdc6c' }).json()\n",
    "        return json[result_key]\n",
    "    except:\n",
    "        print(json)\n",
    "        return None"
   ]
  },
  {
   "cell_type": "code",
   "execution_count": 5,
   "metadata": {
    "collapsed": false
   },
   "outputs": [
    {
     "data": {
      "text/plain": [
       "[{'_links': {'fixtures': {'href': 'http://api.football-data.org/v1/teams/322/fixtures'},\n",
       "   'players': {'href': 'http://api.football-data.org/v1/teams/322/players'},\n",
       "   'self': {'href': 'http://api.football-data.org/v1/teams/322'}},\n",
       "  'code': 'HUL',\n",
       "  'crestUrl': 'http://upload.wikimedia.org/wikipedia/de/a/a9/Hull_City_AFC.svg',\n",
       "  'name': 'Hull City FC',\n",
       "  'shortName': 'Hull',\n",
       "  'squadMarketValue': '122,250,000 €'},\n",
       " {'_links': {'fixtures': {'href': 'http://api.football-data.org/v1/teams/338/fixtures'},\n",
       "   'players': {'href': 'http://api.football-data.org/v1/teams/338/players'},\n",
       "   'self': {'href': 'http://api.football-data.org/v1/teams/338'}},\n",
       "  'code': 'LCFC',\n",
       "  'crestUrl': 'http://upload.wikimedia.org/wikipedia/en/6/63/Leicester02.png',\n",
       "  'name': 'Leicester City FC',\n",
       "  'shortName': 'Foxes',\n",
       "  'squadMarketValue': '210,500,000 €'},\n",
       " {'_links': {'fixtures': {'href': 'http://api.football-data.org/v1/teams/340/fixtures'},\n",
       "   'players': {'href': 'http://api.football-data.org/v1/teams/340/players'},\n",
       "   'self': {'href': 'http://api.football-data.org/v1/teams/340'}},\n",
       "  'code': 'SFC',\n",
       "  'crestUrl': 'http://upload.wikimedia.org/wikipedia/de/c/c9/FC_Southampton.svg',\n",
       "  'name': 'Southampton FC',\n",
       "  'shortName': 'Southampton',\n",
       "  'squadMarketValue': '199,000,000 €'},\n",
       " {'_links': {'fixtures': {'href': 'http://api.football-data.org/v1/teams/346/fixtures'},\n",
       "   'players': {'href': 'http://api.football-data.org/v1/teams/346/players'},\n",
       "   'self': {'href': 'http://api.football-data.org/v1/teams/346'}},\n",
       "  'code': 'Watfordfc',\n",
       "  'crestUrl': 'https://upload.wikimedia.org/wikipedia/en/e/e2/Watford.svg',\n",
       "  'name': 'Watford FC',\n",
       "  'shortName': 'Watford',\n",
       "  'squadMarketValue': '128,500,000 €'},\n",
       " {'_links': {'fixtures': {'href': 'http://api.football-data.org/v1/teams/343/fixtures'},\n",
       "   'players': {'href': 'http://api.football-data.org/v1/teams/343/players'},\n",
       "   'self': {'href': 'http://api.football-data.org/v1/teams/343'}},\n",
       "  'code': None,\n",
       "  'crestUrl': 'https://upload.wikimedia.org/wikipedia/en/2/2c/Middlesbrough_FC_crest.svg',\n",
       "  'name': 'Middlesbrough FC',\n",
       "  'shortName': 'Middlesbrough',\n",
       "  'squadMarketValue': '104,750,000 €'},\n",
       " {'_links': {'fixtures': {'href': 'http://api.football-data.org/v1/teams/70/fixtures'},\n",
       "   'players': {'href': 'http://api.football-data.org/v1/teams/70/players'},\n",
       "   'self': {'href': 'http://api.football-data.org/v1/teams/70'}},\n",
       "  'code': 'SCFC',\n",
       "  'crestUrl': 'http://upload.wikimedia.org/wikipedia/de/a/a3/Stoke_City.svg',\n",
       "  'name': 'Stoke City FC',\n",
       "  'shortName': 'Stoke',\n",
       "  'squadMarketValue': '172,250,000 €'},\n",
       " {'_links': {'fixtures': {'href': 'http://api.football-data.org/v1/teams/62/fixtures'},\n",
       "   'players': {'href': 'http://api.football-data.org/v1/teams/62/players'},\n",
       "   'self': {'href': 'http://api.football-data.org/v1/teams/62'}},\n",
       "  'code': 'EFC',\n",
       "  'crestUrl': 'http://upload.wikimedia.org/wikipedia/de/f/f9/Everton_FC.svg',\n",
       "  'name': 'Everton FC',\n",
       "  'shortName': 'Everton',\n",
       "  'squadMarketValue': '239,250,000 €'},\n",
       " {'_links': {'fixtures': {'href': 'http://api.football-data.org/v1/teams/73/fixtures'},\n",
       "   'players': {'href': 'http://api.football-data.org/v1/teams/73/players'},\n",
       "   'self': {'href': 'http://api.football-data.org/v1/teams/73'}},\n",
       "  'code': 'THFC',\n",
       "  'crestUrl': 'http://upload.wikimedia.org/wikipedia/de/b/b4/Tottenham_Hotspur.svg',\n",
       "  'name': 'Tottenham Hotspur FC',\n",
       "  'shortName': 'Spurs',\n",
       "  'squadMarketValue': '365,500,000 €'},\n",
       " {'_links': {'fixtures': {'href': 'http://api.football-data.org/v1/teams/354/fixtures'},\n",
       "   'players': {'href': 'http://api.football-data.org/v1/teams/354/players'},\n",
       "   'self': {'href': 'http://api.football-data.org/v1/teams/354'}},\n",
       "  'code': 'CRY',\n",
       "  'crestUrl': 'http://upload.wikimedia.org/wikipedia/de/b/bf/Crystal_Palace_F.C._logo_(2013).png',\n",
       "  'name': 'Crystal Palace FC',\n",
       "  'shortName': 'Crystal',\n",
       "  'squadMarketValue': '157,750,000 €'},\n",
       " {'_links': {'fixtures': {'href': 'http://api.football-data.org/v1/teams/74/fixtures'},\n",
       "   'players': {'href': 'http://api.football-data.org/v1/teams/74/players'},\n",
       "   'self': {'href': 'http://api.football-data.org/v1/teams/74'}},\n",
       "  'code': 'WBA',\n",
       "  'crestUrl': 'http://upload.wikimedia.org/wikipedia/de/8/8b/West_Bromwich_Albion.svg',\n",
       "  'name': 'West Bromwich Albion FC',\n",
       "  'shortName': 'West Bromwich',\n",
       "  'squadMarketValue': '107,600,000 €'},\n",
       " {'_links': {'fixtures': {'href': 'http://api.football-data.org/v1/teams/328/fixtures'},\n",
       "   'players': {'href': 'http://api.football-data.org/v1/teams/328/players'},\n",
       "   'self': {'href': 'http://api.football-data.org/v1/teams/328'}},\n",
       "  'code': 'BFC',\n",
       "  'crestUrl': 'https://upload.wikimedia.org/wikipedia/en/0/02/Burnley_FC_badge.png',\n",
       "  'name': 'Burnley FC',\n",
       "  'shortName': 'Burnley',\n",
       "  'squadMarketValue': '66,500,000 €'},\n",
       " {'_links': {'fixtures': {'href': 'http://api.football-data.org/v1/teams/72/fixtures'},\n",
       "   'players': {'href': 'http://api.football-data.org/v1/teams/72/players'},\n",
       "   'self': {'href': 'http://api.football-data.org/v1/teams/72'}},\n",
       "  'code': 'SWA',\n",
       "  'crestUrl': 'http://upload.wikimedia.org/wikipedia/de/a/ab/Swansea_City_Logo.svg',\n",
       "  'name': 'Swansea City FC',\n",
       "  'shortName': 'Swans',\n",
       "  'squadMarketValue': '106,100,000 €'},\n",
       " {'_links': {'fixtures': {'href': 'http://api.football-data.org/v1/teams/65/fixtures'},\n",
       "   'players': {'href': 'http://api.football-data.org/v1/teams/65/players'},\n",
       "   'self': {'href': 'http://api.football-data.org/v1/teams/65'}},\n",
       "  'code': 'MCFC',\n",
       "  'crestUrl': 'https://upload.wikimedia.org/wikipedia/en/e/eb/Manchester_City_FC_badge.svg',\n",
       "  'name': 'Manchester City FC',\n",
       "  'shortName': 'ManCity',\n",
       "  'squadMarketValue': '518,000,000 €'},\n",
       " {'_links': {'fixtures': {'href': 'http://api.football-data.org/v1/teams/71/fixtures'},\n",
       "   'players': {'href': 'http://api.football-data.org/v1/teams/71/players'},\n",
       "   'self': {'href': 'http://api.football-data.org/v1/teams/71'}},\n",
       "  'code': 'SUN',\n",
       "  'crestUrl': 'http://upload.wikimedia.org/wikipedia/de/6/60/AFC_Sunderland.svg',\n",
       "  'name': 'Sunderland AFC',\n",
       "  'shortName': 'Sunderland',\n",
       "  'squadMarketValue': '92,500,000 €'},\n",
       " {'_links': {'fixtures': {'href': 'http://api.football-data.org/v1/teams/1044/fixtures'},\n",
       "   'players': {'href': 'http://api.football-data.org/v1/teams/1044/players'},\n",
       "   'self': {'href': 'http://api.football-data.org/v1/teams/1044'}},\n",
       "  'code': 'AFCB',\n",
       "  'crestUrl': 'https://upload.wikimedia.org/wikipedia/de/4/41/Afc_bournemouth.svg',\n",
       "  'name': 'AFC Bournemouth',\n",
       "  'shortName': 'Bournemouth',\n",
       "  'squadMarketValue': '121,750,000 €'},\n",
       " {'_links': {'fixtures': {'href': 'http://api.football-data.org/v1/teams/66/fixtures'},\n",
       "   'players': {'href': 'http://api.football-data.org/v1/teams/66/players'},\n",
       "   'self': {'href': 'http://api.football-data.org/v1/teams/66'}},\n",
       "  'code': 'MUFC',\n",
       "  'crestUrl': 'http://upload.wikimedia.org/wikipedia/de/d/da/Manchester_United_FC.svg',\n",
       "  'name': 'Manchester United FC',\n",
       "  'shortName': 'ManU',\n",
       "  'squadMarketValue': '534,250,000 €'},\n",
       " {'_links': {'fixtures': {'href': 'http://api.football-data.org/v1/teams/57/fixtures'},\n",
       "   'players': {'href': 'http://api.football-data.org/v1/teams/57/players'},\n",
       "   'self': {'href': 'http://api.football-data.org/v1/teams/57'}},\n",
       "  'code': 'AFC',\n",
       "  'crestUrl': 'http://upload.wikimedia.org/wikipedia/en/5/53/Arsenal_FC.svg',\n",
       "  'name': 'Arsenal FC',\n",
       "  'shortName': 'Arsenal',\n",
       "  'squadMarketValue': '468,500,000 €'},\n",
       " {'_links': {'fixtures': {'href': 'http://api.football-data.org/v1/teams/64/fixtures'},\n",
       "   'players': {'href': 'http://api.football-data.org/v1/teams/64/players'},\n",
       "   'self': {'href': 'http://api.football-data.org/v1/teams/64'}},\n",
       "  'code': 'LFC',\n",
       "  'crestUrl': 'http://upload.wikimedia.org/wikipedia/de/0/0a/FC_Liverpool.svg',\n",
       "  'name': 'Liverpool FC',\n",
       "  'shortName': 'Liverpool',\n",
       "  'squadMarketValue': '387,200,000 €'},\n",
       " {'_links': {'fixtures': {'href': 'http://api.football-data.org/v1/teams/61/fixtures'},\n",
       "   'players': {'href': 'http://api.football-data.org/v1/teams/61/players'},\n",
       "   'self': {'href': 'http://api.football-data.org/v1/teams/61'}},\n",
       "  'code': 'CFC',\n",
       "  'crestUrl': 'http://upload.wikimedia.org/wikipedia/de/5/5c/Chelsea_crest.svg',\n",
       "  'name': 'Chelsea FC',\n",
       "  'shortName': 'Chelsea',\n",
       "  'squadMarketValue': '514,800,000 €'},\n",
       " {'_links': {'fixtures': {'href': 'http://api.football-data.org/v1/teams/563/fixtures'},\n",
       "   'players': {'href': 'http://api.football-data.org/v1/teams/563/players'},\n",
       "   'self': {'href': 'http://api.football-data.org/v1/teams/563'}},\n",
       "  'code': 'WHU',\n",
       "  'crestUrl': 'http://upload.wikimedia.org/wikipedia/de/e/e0/West_Ham_United_FC.svg',\n",
       "  'name': 'West Ham United FC',\n",
       "  'shortName': 'West Ham',\n",
       "  'squadMarketValue': '241,500,000 €'}]"
      ]
     },
     "execution_count": 5,
     "metadata": {},
     "output_type": "execute_result"
    }
   ],
   "source": [
    "teams = call_api('http://api.football-data.org/v1/soccerseasons/426/teams', 'teams')\n",
    "teams"
   ]
  },
  {
   "cell_type": "code",
   "execution_count": 6,
   "metadata": {
    "collapsed": false
   },
   "outputs": [
    {
     "name": "stdout",
     "output_type": "stream",
     "text": [
      "Team \"Hull City FC\", 50 loss, 122,250,000 € \n",
      "Team \"Leicester City FC\", 52 loss, 210,500,000 € \n",
      "Team \"Southampton FC\", 31 loss, 199,000,000 € \n",
      "Team \"Watford FC\", 43 loss, 128,500,000 € \n",
      "Team \"Middlesbrough FC\", 28 loss, 104,750,000 € \n",
      "Team \"Stoke City FC\", 40 loss, 172,250,000 € \n",
      "Team \"Everton FC\", 27 loss, 239,250,000 € \n",
      "Team \"Tottenham Hotspur FC\", 24 loss, 365,500,000 € \n",
      "Team \"Crystal Palace FC\", 46 loss, 157,750,000 € \n",
      "Team \"West Bromwich Albion FC\", 32 loss, 107,600,000 € \n",
      "Team \"Burnley FC\", 37 loss, 66,500,000 € \n",
      "Team \"Swansea City FC\", 57 loss, 106,100,000 € \n",
      "Team \"Manchester City FC\", 42 loss, 518,000,000 € \n",
      "Team \"Sunderland AFC\", 48 loss, 92,500,000 € \n",
      "Team \"AFC Bournemouth\", 51 loss, 121,750,000 € \n",
      "Team \"Manchester United FC\", 21 loss, 534,250,000 € \n",
      "Team \"Arsenal FC\", 39 loss, 468,500,000 € \n",
      "Team \"Liverpool FC\", 33 loss, 387,200,000 € \n",
      "Team \"Chelsea FC\", 19 loss, 514,800,000 € \n",
      "Team \"West Ham United FC\", 44 loss, 241,500,000 € \n"
     ]
    }
   ],
   "source": [
    "for team in teams:\n",
    "    cost = team['squadMarketValue']\n",
    "    fixtures = call_api(team['_links']['fixtures']['href'], 'fixtures')\n",
    "    loss = 0\n",
    "    for f in fixtures:\n",
    "        if team['name'] == f['homeTeamName']:\n",
    "            loss += f['result']['goalsAwayTeam'] if f['result']['goalsAwayTeam'] else 0\n",
    "        else:\n",
    "            loss += f['result']['goalsHomeTeam'] if f['result']['goalsHomeTeam'] else 0\n",
    "    print('Team \"{}\", {} loss, {} '.format(team['name'], loss, cost))\n",
    "    team['loss'] = loss"
   ]
  },
  {
   "cell_type": "code",
   "execution_count": 7,
   "metadata": {
    "collapsed": false
   },
   "outputs": [
    {
     "data": {
      "text/plain": [
       "[{'cost': 122250000, 'loss': 50, 'name': 'Hull City FC'},\n",
       " {'cost': 210500000, 'loss': 52, 'name': 'Leicester City FC'},\n",
       " {'cost': 199000000, 'loss': 31, 'name': 'Southampton FC'},\n",
       " {'cost': 128500000, 'loss': 43, 'name': 'Watford FC'},\n",
       " {'cost': 104750000, 'loss': 28, 'name': 'Middlesbrough FC'},\n",
       " {'cost': 172250000, 'loss': 40, 'name': 'Stoke City FC'},\n",
       " {'cost': 239250000, 'loss': 27, 'name': 'Everton FC'},\n",
       " {'cost': 365500000, 'loss': 24, 'name': 'Tottenham Hotspur FC'},\n",
       " {'cost': 157750000, 'loss': 46, 'name': 'Crystal Palace FC'},\n",
       " {'cost': 107600000, 'loss': 32, 'name': 'West Bromwich Albion FC'},\n",
       " {'cost': 66500000, 'loss': 37, 'name': 'Burnley FC'},\n",
       " {'cost': 106100000, 'loss': 57, 'name': 'Swansea City FC'},\n",
       " {'cost': 518000000, 'loss': 42, 'name': 'Manchester City FC'},\n",
       " {'cost': 92500000, 'loss': 48, 'name': 'Sunderland AFC'},\n",
       " {'cost': 121750000, 'loss': 51, 'name': 'AFC Bournemouth'},\n",
       " {'cost': 534250000, 'loss': 21, 'name': 'Manchester United FC'},\n",
       " {'cost': 468500000, 'loss': 39, 'name': 'Arsenal FC'},\n",
       " {'cost': 387200000, 'loss': 33, 'name': 'Liverpool FC'},\n",
       " {'cost': 514800000, 'loss': 19, 'name': 'Chelsea FC'},\n",
       " {'cost': 241500000, 'loss': 44, 'name': 'West Ham United FC'}]"
      ]
     },
     "execution_count": 7,
     "metadata": {},
     "output_type": "execute_result"
    }
   ],
   "source": [
    "team_for_pd = []\n",
    "for team in teams:\n",
    "    team_for_pd.append({'name': team['name'], 'loss': team['loss'], 'cost': int(exp.sub('', team['squadMarketValue']))})\n",
    "team_for_pd"
   ]
  },
  {
   "cell_type": "code",
   "execution_count": 8,
   "metadata": {
    "collapsed": false
   },
   "outputs": [
    {
     "data": {
      "text/html": [
       "<div>\n",
       "<table border=\"1\" class=\"dataframe\">\n",
       "  <thead>\n",
       "    <tr style=\"text-align: right;\">\n",
       "      <th></th>\n",
       "      <th>cost</th>\n",
       "      <th>loss</th>\n",
       "      <th>name</th>\n",
       "    </tr>\n",
       "  </thead>\n",
       "  <tbody>\n",
       "    <tr>\n",
       "      <th>0</th>\n",
       "      <td>122250000</td>\n",
       "      <td>50</td>\n",
       "      <td>Hull City FC</td>\n",
       "    </tr>\n",
       "    <tr>\n",
       "      <th>1</th>\n",
       "      <td>210500000</td>\n",
       "      <td>52</td>\n",
       "      <td>Leicester City FC</td>\n",
       "    </tr>\n",
       "    <tr>\n",
       "      <th>2</th>\n",
       "      <td>199000000</td>\n",
       "      <td>31</td>\n",
       "      <td>Southampton FC</td>\n",
       "    </tr>\n",
       "    <tr>\n",
       "      <th>3</th>\n",
       "      <td>128500000</td>\n",
       "      <td>43</td>\n",
       "      <td>Watford FC</td>\n",
       "    </tr>\n",
       "    <tr>\n",
       "      <th>4</th>\n",
       "      <td>104750000</td>\n",
       "      <td>28</td>\n",
       "      <td>Middlesbrough FC</td>\n",
       "    </tr>\n",
       "    <tr>\n",
       "      <th>5</th>\n",
       "      <td>172250000</td>\n",
       "      <td>40</td>\n",
       "      <td>Stoke City FC</td>\n",
       "    </tr>\n",
       "    <tr>\n",
       "      <th>6</th>\n",
       "      <td>239250000</td>\n",
       "      <td>27</td>\n",
       "      <td>Everton FC</td>\n",
       "    </tr>\n",
       "    <tr>\n",
       "      <th>7</th>\n",
       "      <td>365500000</td>\n",
       "      <td>24</td>\n",
       "      <td>Tottenham Hotspur FC</td>\n",
       "    </tr>\n",
       "    <tr>\n",
       "      <th>8</th>\n",
       "      <td>157750000</td>\n",
       "      <td>46</td>\n",
       "      <td>Crystal Palace FC</td>\n",
       "    </tr>\n",
       "    <tr>\n",
       "      <th>9</th>\n",
       "      <td>107600000</td>\n",
       "      <td>32</td>\n",
       "      <td>West Bromwich Albion FC</td>\n",
       "    </tr>\n",
       "    <tr>\n",
       "      <th>10</th>\n",
       "      <td>66500000</td>\n",
       "      <td>37</td>\n",
       "      <td>Burnley FC</td>\n",
       "    </tr>\n",
       "    <tr>\n",
       "      <th>11</th>\n",
       "      <td>106100000</td>\n",
       "      <td>57</td>\n",
       "      <td>Swansea City FC</td>\n",
       "    </tr>\n",
       "    <tr>\n",
       "      <th>12</th>\n",
       "      <td>518000000</td>\n",
       "      <td>42</td>\n",
       "      <td>Manchester City FC</td>\n",
       "    </tr>\n",
       "    <tr>\n",
       "      <th>13</th>\n",
       "      <td>92500000</td>\n",
       "      <td>48</td>\n",
       "      <td>Sunderland AFC</td>\n",
       "    </tr>\n",
       "    <tr>\n",
       "      <th>14</th>\n",
       "      <td>121750000</td>\n",
       "      <td>51</td>\n",
       "      <td>AFC Bournemouth</td>\n",
       "    </tr>\n",
       "    <tr>\n",
       "      <th>15</th>\n",
       "      <td>534250000</td>\n",
       "      <td>21</td>\n",
       "      <td>Manchester United FC</td>\n",
       "    </tr>\n",
       "    <tr>\n",
       "      <th>16</th>\n",
       "      <td>468500000</td>\n",
       "      <td>39</td>\n",
       "      <td>Arsenal FC</td>\n",
       "    </tr>\n",
       "    <tr>\n",
       "      <th>17</th>\n",
       "      <td>387200000</td>\n",
       "      <td>33</td>\n",
       "      <td>Liverpool FC</td>\n",
       "    </tr>\n",
       "    <tr>\n",
       "      <th>18</th>\n",
       "      <td>514800000</td>\n",
       "      <td>19</td>\n",
       "      <td>Chelsea FC</td>\n",
       "    </tr>\n",
       "    <tr>\n",
       "      <th>19</th>\n",
       "      <td>241500000</td>\n",
       "      <td>44</td>\n",
       "      <td>West Ham United FC</td>\n",
       "    </tr>\n",
       "  </tbody>\n",
       "</table>\n",
       "</div>"
      ],
      "text/plain": [
       "         cost  loss                     name\n",
       "0   122250000    50             Hull City FC\n",
       "1   210500000    52        Leicester City FC\n",
       "2   199000000    31           Southampton FC\n",
       "3   128500000    43               Watford FC\n",
       "4   104750000    28         Middlesbrough FC\n",
       "5   172250000    40            Stoke City FC\n",
       "6   239250000    27               Everton FC\n",
       "7   365500000    24     Tottenham Hotspur FC\n",
       "8   157750000    46        Crystal Palace FC\n",
       "9   107600000    32  West Bromwich Albion FC\n",
       "10   66500000    37               Burnley FC\n",
       "11  106100000    57          Swansea City FC\n",
       "12  518000000    42       Manchester City FC\n",
       "13   92500000    48           Sunderland AFC\n",
       "14  121750000    51          AFC Bournemouth\n",
       "15  534250000    21     Manchester United FC\n",
       "16  468500000    39               Arsenal FC\n",
       "17  387200000    33             Liverpool FC\n",
       "18  514800000    19               Chelsea FC\n",
       "19  241500000    44       West Ham United FC"
      ]
     },
     "execution_count": 8,
     "metadata": {},
     "output_type": "execute_result"
    }
   ],
   "source": [
    "teams_pd = pd.DataFrame(team_for_pd)\n",
    "teams_pd"
   ]
  },
  {
   "cell_type": "code",
   "execution_count": 9,
   "metadata": {
    "collapsed": false
   },
   "outputs": [
    {
     "data": {
      "text/plain": [
       "<matplotlib.axes._subplots.AxesSubplot at 0x104819c88>"
      ]
     },
     "execution_count": 9,
     "metadata": {},
     "output_type": "execute_result"
    },
    {
     "data": {
      "image/png": "[encoded data removed]",
      "text/plain": [
       "<matplotlib.figure.Figure at 0x116439f60>"
      ]
     },
     "metadata": {},
     "output_type": "display_data"
    }
   ],
   "source": [
    "teams_pd.plot.scatter(x='cost', y='loss', s=100)"
   ]
  },
  {
   "cell_type": "code",
   "execution_count": 10,
   "metadata": {
    "collapsed": false
   },
   "outputs": [
    {
     "data": {
      "text/html": [
       "<div>\n",
       "<table border=\"1\" class=\"dataframe\">\n",
       "  <thead>\n",
       "    <tr style=\"text-align: right;\">\n",
       "      <th></th>\n",
       "      <th>cost</th>\n",
       "      <th>loss</th>\n",
       "    </tr>\n",
       "  </thead>\n",
       "  <tbody>\n",
       "    <tr>\n",
       "      <th>0</th>\n",
       "      <td>122250000</td>\n",
       "      <td>50</td>\n",
       "    </tr>\n",
       "    <tr>\n",
       "      <th>1</th>\n",
       "      <td>210500000</td>\n",
       "      <td>52</td>\n",
       "    </tr>\n",
       "    <tr>\n",
       "      <th>2</th>\n",
       "      <td>199000000</td>\n",
       "      <td>31</td>\n",
       "    </tr>\n",
       "    <tr>\n",
       "      <th>3</th>\n",
       "      <td>128500000</td>\n",
       "      <td>43</td>\n",
       "    </tr>\n",
       "    <tr>\n",
       "      <th>4</th>\n",
       "      <td>104750000</td>\n",
       "      <td>28</td>\n",
       "    </tr>\n",
       "    <tr>\n",
       "      <th>5</th>\n",
       "      <td>172250000</td>\n",
       "      <td>40</td>\n",
       "    </tr>\n",
       "    <tr>\n",
       "      <th>6</th>\n",
       "      <td>239250000</td>\n",
       "      <td>27</td>\n",
       "    </tr>\n",
       "    <tr>\n",
       "      <th>7</th>\n",
       "      <td>365500000</td>\n",
       "      <td>24</td>\n",
       "    </tr>\n",
       "    <tr>\n",
       "      <th>8</th>\n",
       "      <td>157750000</td>\n",
       "      <td>46</td>\n",
       "    </tr>\n",
       "    <tr>\n",
       "      <th>9</th>\n",
       "      <td>107600000</td>\n",
       "      <td>32</td>\n",
       "    </tr>\n",
       "    <tr>\n",
       "      <th>10</th>\n",
       "      <td>66500000</td>\n",
       "      <td>37</td>\n",
       "    </tr>\n",
       "    <tr>\n",
       "      <th>11</th>\n",
       "      <td>106100000</td>\n",
       "      <td>57</td>\n",
       "    </tr>\n",
       "    <tr>\n",
       "      <th>12</th>\n",
       "      <td>518000000</td>\n",
       "      <td>42</td>\n",
       "    </tr>\n",
       "    <tr>\n",
       "      <th>13</th>\n",
       "      <td>92500000</td>\n",
       "      <td>48</td>\n",
       "    </tr>\n",
       "    <tr>\n",
       "      <th>14</th>\n",
       "      <td>121750000</td>\n",
       "      <td>51</td>\n",
       "    </tr>\n",
       "    <tr>\n",
       "      <th>15</th>\n",
       "      <td>534250000</td>\n",
       "      <td>21</td>\n",
       "    </tr>\n",
       "    <tr>\n",
       "      <th>16</th>\n",
       "      <td>468500000</td>\n",
       "      <td>39</td>\n",
       "    </tr>\n",
       "    <tr>\n",
       "      <th>17</th>\n",
       "      <td>387200000</td>\n",
       "      <td>33</td>\n",
       "    </tr>\n",
       "    <tr>\n",
       "      <th>18</th>\n",
       "      <td>514800000</td>\n",
       "      <td>19</td>\n",
       "    </tr>\n",
       "    <tr>\n",
       "      <th>19</th>\n",
       "      <td>241500000</td>\n",
       "      <td>44</td>\n",
       "    </tr>\n",
       "  </tbody>\n",
       "</table>\n",
       "</div>"
      ],
      "text/plain": [
       "         cost  loss\n",
       "0   122250000    50\n",
       "1   210500000    52\n",
       "2   199000000    31\n",
       "3   128500000    43\n",
       "4   104750000    28\n",
       "5   172250000    40\n",
       "6   239250000    27\n",
       "7   365500000    24\n",
       "8   157750000    46\n",
       "9   107600000    32\n",
       "10   66500000    37\n",
       "11  106100000    57\n",
       "12  518000000    42\n",
       "13   92500000    48\n",
       "14  121750000    51\n",
       "15  534250000    21\n",
       "16  468500000    39\n",
       "17  387200000    33\n",
       "18  514800000    19\n",
       "19  241500000    44"
      ]
     },
     "execution_count": 10,
     "metadata": {},
     "output_type": "execute_result"
    }
   ],
   "source": [
    "del teams_pd['name']\n",
    "teams_pd"
   ]
  },
  {
   "cell_type": "code",
   "execution_count": 11,
   "metadata": {
    "collapsed": false
   },
   "outputs": [
    {
     "data": {
      "text/plain": [
       "array([[ 0.78211176,  4.66943179],\n",
       "       [ 1.34670369,  4.85620906],\n",
       "       [ 1.2731308 ,  2.89504771],\n",
       "       [ 0.82209703,  4.01571134],\n",
       "       [ 0.67015302,  2.6148818 ],\n",
       "       [ 1.10199387,  3.73554543],\n",
       "       [ 1.5306359 ,  2.52149317],\n",
       "       [ 2.33833823,  2.24132726],\n",
       "       [ 1.00922806,  4.29587725],\n",
       "       [ 0.6883863 ,  2.98843634],\n",
       "       [ 0.42544321,  3.45537952],\n",
       "       [ 0.67878984,  5.32315224],\n",
       "       [ 3.31397867,  3.9223227 ],\n",
       "       [ 0.59178191,  4.48265452],\n",
       "       [ 0.77891294,  4.76282042],\n",
       "       [ 3.41794036,  1.96116135],\n",
       "       [ 2.99729538,  3.6421568 ],\n",
       "       [ 2.47716707,  3.08182498],\n",
       "       [ 3.29350622,  1.77438408],\n",
       "       [ 1.5450306 ,  4.10909997]])"
      ]
     },
     "execution_count": 11,
     "metadata": {},
     "output_type": "execute_result"
    }
   ],
   "source": [
    "whitened = whiten(teams_pd.as_matrix())\n",
    "whitened"
   ]
  },
  {
   "cell_type": "code",
   "execution_count": 12,
   "metadata": {
    "collapsed": false
   },
   "outputs": [
    {
     "data": {
      "text/plain": [
       "(array([[ 2.92948037,  3.54876816],\n",
       "        [ 0.94602849,  3.90898147],\n",
       "        [ 3.01659493,  1.9922909 ]]),\n",
       " array([1, 1, 1, 1, 1, 1, 1, 2, 1, 1, 1, 1, 0, 1, 1, 2, 0, 0, 2, 1], dtype=int32))"
      ]
     },
     "execution_count": 12,
     "metadata": {},
     "output_type": "execute_result"
    }
   ],
   "source": [
    "centroids, cluster_map = kmeans2(whitened, 3)\n",
    "centroids, cluster_map"
   ]
  },
  {
   "cell_type": "code",
   "execution_count": 13,
   "metadata": {
    "collapsed": false
   },
   "outputs": [],
   "source": [
    "colors_map = {0: 'r', 1: 'g', 2: 'b'}\n",
    "colors = [colors_map[c] for c in cluster_map]"
   ]
  },
  {
   "cell_type": "code",
   "execution_count": 14,
   "metadata": {
    "collapsed": false
   },
   "outputs": [
    {
     "data": {
      "text/plain": [
       "<matplotlib.axes._subplots.AxesSubplot at 0x1189c5f28>"
      ]
     },
     "execution_count": 14,
     "metadata": {},
     "output_type": "execute_result"
    },
    {
     "data": {
      "image/png": "[encoded data removed]",
      "text/plain": [
       "<matplotlib.figure.Figure at 0x11647a400>"
      ]
     },
     "metadata": {},
     "output_type": "display_data"
    }
   ],
   "source": [
    "teams_pd.plot.scatter(x='cost', y='loss', c=colors, s=100)"
   ]
  },
  {
   "cell_type": "code",
   "execution_count": 15,
   "metadata": {
    "collapsed": false
   },
   "outputs": [
    {
     "data": {
      "text/plain": [
       "(array([[ 2.88173797,  2.26467442],\n",
       "        [ 3.15563703,  3.78223975],\n",
       "        [ 0.83566003,  4.81885361],\n",
       "        [ 1.04057651,  2.75496476],\n",
       "        [ 0.98075855,  3.9223227 ]]),\n",
       " array([2, 2, 3, 4, 3, 4, 3, 0, 4, 3, 4, 2, 1, 2, 2, 0, 1, 0, 0, 4], dtype=int32))"
      ]
     },
     "execution_count": 15,
     "metadata": {},
     "output_type": "execute_result"
    }
   ],
   "source": [
    "centroids, cluster_map = kmeans2(whitened, 5)\n",
    "centroids, cluster_map"
   ]
  },
  {
   "cell_type": "code",
   "execution_count": 16,
   "metadata": {
    "collapsed": false
   },
   "outputs": [],
   "source": [
    "colors_map = {0: 'c', 1: 'k', 2: 'b', 3: 'y', 4: 'm'}\n",
    "colors = [colors_map[c] for c in cluster_map]"
   ]
  },
  {
   "cell_type": "code",
   "execution_count": 17,
   "metadata": {
    "collapsed": false
   },
   "outputs": [
    {
     "data": {
      "text/plain": [
       "<matplotlib.axes._subplots.AxesSubplot at 0x118a0fc88>"
      ]
     },
     "execution_count": 17,
     "metadata": {},
     "output_type": "execute_result"
    },
    {
     "data": {
      "image/png": "[encoded data removed]",
      "text/plain": [
       "<matplotlib.figure.Figure at 0x118b13cf8>"
      ]
     },
     "metadata": {},
     "output_type": "display_data"
    }
   ],
   "source": [
    "teams_pd.plot.scatter(x='cost', y='loss', c=colors, s=100)"
   ]
  },
  {
   "cell_type": "code",
   "execution_count": null,
   "metadata": {
    "collapsed": true
   },
   "outputs": [],
   "source": []
  }
 ],
 "metadata": {
  "anaconda-cloud": {},
  "kernelspec": {
   "display_name": "Python [default]",
   "language": "python",
   "name": "python3"
  },
  "language_info": {
   "codemirror_mode": {
    "name": "ipython",
    "version": 3
   },
   "file_extension": ".py",
   "mimetype": "text/x-python",
   "name": "python",
   "nbconvert_exporter": "python",
   "pygments_lexer": "ipython3",
   "version": "3.5.2"
  }
 },
 "nbformat": 4,
 "nbformat_minor": 2
}
